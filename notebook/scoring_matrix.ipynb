{
 "cells": [
  {
   "metadata": {
    "ExecuteTime": {
     "end_time": "2025-07-22T23:10:03.204235Z",
     "start_time": "2025-07-22T23:10:03.199900Z"
    }
   },
   "cell_type": "code",
   "source": "import os",
   "id": "f11eaea52a51288",
   "outputs": [],
   "execution_count": 1
  },
  {
   "cell_type": "code",
   "id": "initial_id",
   "metadata": {
    "collapsed": true,
    "ExecuteTime": {
     "end_time": "2025-07-22T23:10:05.238523Z",
     "start_time": "2025-07-22T23:10:05.233488Z"
    }
   },
   "source": [
    "def save_fastas(path_txt, output_file):\n",
    "    with open(path_txt, 'r') as f:\n",
    "        lines = [line.strip() for line in f if line.strip()]\n",
    "\n",
    "    os.makedirs(output_file, exist_ok=True)\n",
    "\n",
    "    for i in range(0, len(lines), 2):\n",
    "        seq = lines[i]\n",
    "        name = f\"seq_{i//2:03d}\"\n",
    "        with open(os.path.join(output_file, f\"{name}.fasta\"), 'w') as f_out:\n",
    "            f_out.write(f\">{name}\\n{seq}\\n\")\n",
    "\n",
    "    print(f\"{len(lines)//2} arquivos .fasta salvos em: {output_file}\")\n"
   ],
   "outputs": [],
   "execution_count": 2
  },
  {
   "metadata": {
    "ExecuteTime": {
     "end_time": "2025-07-22T23:10:07.660200Z",
     "start_time": "2025-07-22T23:10:07.646880Z"
    }
   },
   "cell_type": "code",
   "source": "save_fastas(\"../data/RS126.data.txt\", \"../data/fastas_rs126\")",
   "id": "3312c4535d44e22",
   "outputs": [
    {
     "name": "stdout",
     "output_type": "stream",
     "text": [
      "126 arquivos .fasta salvos em: ../data/fastas_rs126\n"
     ]
    }
   ],
   "execution_count": 3
  }
 ],
 "metadata": {
  "kernelspec": {
   "display_name": "Python 3",
   "language": "python",
   "name": "python3"
  },
  "language_info": {
   "codemirror_mode": {
    "name": "ipython",
    "version": 2
   },
   "file_extension": ".py",
   "mimetype": "text/x-python",
   "name": "python",
   "nbconvert_exporter": "python",
   "pygments_lexer": "ipython2",
   "version": "2.7.6"
  }
 },
 "nbformat": 4,
 "nbformat_minor": 5
}
