{
 "cells": [
  {
   "cell_type": "code",
   "execution_count": 1,
   "id": "1b049090-6644-424f-93e4-01ae85f8b588",
   "metadata": {},
   "outputs": [
    {
     "name": "stderr",
     "output_type": "stream",
     "text": [
      "2025-07-25 17:58:28.441971: I tensorflow/core/util/port.cc:153] oneDNN custom operations are on. You may see slightly different numerical results due to floating-point round-off errors from different computation orders. To turn them off, set the environment variable `TF_ENABLE_ONEDNN_OPTS=0`.\n",
      "2025-07-25 17:58:28.457688: E external/local_xla/xla/stream_executor/cuda/cuda_fft.cc:467] Unable to register cuFFT factory: Attempting to register factory for plugin cuFFT when one has already been registered\n",
      "WARNING: All log messages before absl::InitializeLog() is called are written to STDERR\n",
      "E0000 00:00:1753477108.475765   11437 cuda_dnn.cc:8579] Unable to register cuDNN factory: Attempting to register factory for plugin cuDNN when one has already been registered\n",
      "E0000 00:00:1753477108.481280   11437 cuda_blas.cc:1407] Unable to register cuBLAS factory: Attempting to register factory for plugin cuBLAS when one has already been registered\n",
      "W0000 00:00:1753477108.495773   11437 computation_placer.cc:177] computation placer already registered. Please check linkage and avoid linking the same target more than once.\n",
      "W0000 00:00:1753477108.495794   11437 computation_placer.cc:177] computation placer already registered. Please check linkage and avoid linking the same target more than once.\n",
      "W0000 00:00:1753477108.495795   11437 computation_placer.cc:177] computation placer already registered. Please check linkage and avoid linking the same target more than once.\n",
      "W0000 00:00:1753477108.495796   11437 computation_placer.cc:177] computation placer already registered. Please check linkage and avoid linking the same target more than once.\n",
      "2025-07-25 17:58:28.501429: I tensorflow/core/platform/cpu_feature_guard.cc:210] This TensorFlow binary is optimized to use available CPU instructions in performance-critical operations.\n",
      "To enable the following instructions: AVX2 AVX_VNNI FMA, in other operations, rebuild TensorFlow with the appropriate compiler flags.\n"
     ]
    }
   ],
   "source": [
    "import os\n",
    "import numpy as np\n",
    "from glob import glob\n",
    "from tensorflow.keras.utils import to_categorical"
   ]
  },
  {
   "cell_type": "code",
   "execution_count": 8,
   "id": "21348272-bc0e-4854-9923-ae80b84f360b",
   "metadata": {},
   "outputs": [],
   "source": [
    "# Configurações\n",
    "MAX_LEN = 754\n",
    "NUM_FEATURES = 20\n",
    "NUM_CLASSES = 3\n",
    "DATA_PATH = \"/home/jf/GitRepositories/RedeNeuralArtificial/data/pssm_rs126\"  # pasta com arquivos PSSM\n",
    "LABELS_FILE = \"/home/jf/GitRepositories/RedeNeuralArtificial/data/RS126.data.txt\""
   ]
  },
  {
   "cell_type": "code",
   "execution_count": 9,
   "id": "09be1d7c-078d-4339-8a7b-7c1b25997443",
   "metadata": {},
   "outputs": [],
   "source": [
    "label_map = {'H': 0, 'E': 1, 'C': 2}"
   ]
  },
  {
   "cell_type": "code",
   "execution_count": 10,
   "id": "166992fc-36f9-42a0-8595-af103c3377a8",
   "metadata": {},
   "outputs": [],
   "source": [
    "def load_pssm(file_path, max_len=MAX_LEN):\n",
    "    scores = []\n",
    "    with open(file_path) as f:\n",
    "        for line in f:\n",
    "            parts = line.strip().split()\n",
    "            if len(parts) >= 22 and parts[0].isdigit():\n",
    "                values = [float(x) for x in parts[2:22]]\n",
    "                scores.append(values)\n",
    "    scores = np.array(scores)\n",
    "\n",
    "    # Normalização z-score\n",
    "    mean = scores.mean(axis=0)\n",
    "    std = scores.std(axis=0) + 1e-6\n",
    "    scores = (scores - mean) / std\n",
    "\n",
    "    # Padding\n",
    "    padded = np.zeros((max_len, NUM_FEATURES))\n",
    "    padded[:scores.shape[0], :] = scores\n",
    "    return padded, scores.shape[0]"
   ]
  },
  {
   "cell_type": "code",
   "execution_count": 11,
   "id": "ad6b8e60-469b-46a1-81fd-622bc05a5a61",
   "metadata": {},
   "outputs": [],
   "source": [
    "def encode_labels(seq, max_len=MAX_LEN):\n",
    "    encoded = [label_map[ch] for ch in seq]\n",
    "    padded = np.zeros(max_len, dtype=int)\n",
    "    padded[:len(encoded)] = encoded\n",
    "    return to_categorical(padded, num_classes=NUM_CLASSES)"
   ]
  },
  {
   "cell_type": "code",
   "execution_count": 12,
   "id": "50b04eb7-1a0c-4963-b76a-5c509486f412",
   "metadata": {},
   "outputs": [
    {
     "name": "stdout",
     "output_type": "stream",
     "text": [
      "Total PSSMs: 126, Labels: 126\n"
     ]
    }
   ],
   "source": [
    "# Ler arquivo de labels\n",
    "sequences, labels = [], []\n",
    "with open(LABELS_FILE) as f:\n",
    "    lines = [l.strip() for l in f if l.strip()]\n",
    "    for i in range(0, len(lines), 2):\n",
    "        sequences.append(lines[i])\n",
    "        labels.append(lines[i+1])\n",
    "\n",
    "pssm_files = sorted(glob(os.path.join(DATA_PATH, \"*.pssm\")))\n",
    "print(f\"Total PSSMs: {len(pssm_files)}, Labels: {len(labels)}\")"
   ]
  },
  {
   "cell_type": "code",
   "execution_count": 13,
   "id": "c19934a6-b315-47f6-b3e5-5524cdf6c150",
   "metadata": {},
   "outputs": [
    {
     "name": "stdout",
     "output_type": "stream",
     "text": [
      "Shapes -> X: (126, 754, 20) y: (126, 754, 3) weights: (126, 754)\n"
     ]
    }
   ],
   "source": [
    "X_list, y_list, w_list = [], [], []\n",
    "\n",
    "for i, fpath in enumerate(pssm_files):\n",
    "    pssm_matrix, seq_len = load_pssm(fpath)\n",
    "    X_list.append(pssm_matrix)\n",
    "    y_list.append(encode_labels(labels[i]))\n",
    "    weights = np.zeros(MAX_LEN)\n",
    "    weights[:seq_len] = 1.0\n",
    "    w_list.append(weights)\n",
    "\n",
    "X = np.array(X_list)\n",
    "y = np.array(y_list)\n",
    "weights = np.array(w_list)\n",
    "\n",
    "print(\"Shapes -> X:\", X.shape, \"y:\", y.shape, \"weights:\", weights.shape)"
   ]
  },
  {
   "cell_type": "code",
   "execution_count": 14,
   "id": "ed8665b3-4d86-4bbe-ab85-f1a27aa5d33c",
   "metadata": {},
   "outputs": [
    {
     "name": "stdout",
     "output_type": "stream",
     "text": [
      "Arquivo salvo: pssm_dataset.npz\n"
     ]
    }
   ],
   "source": [
    "# Salvar em único arquivo\n",
    "np.savez_compressed(\"data/pssm_dataset.npz\", X=X, y=y, weights=weights)\n",
    "print(\"Arquivo salvo: pssm_dataset.npz\")"
   ]
  }
 ],
 "metadata": {
  "kernelspec": {
   "display_name": "Python 3.10.9 (RNA)",
   "language": "python",
   "name": "rna-env"
  },
  "language_info": {
   "codemirror_mode": {
    "name": "ipython",
    "version": 3
   },
   "file_extension": ".py",
   "mimetype": "text/x-python",
   "name": "python",
   "nbconvert_exporter": "python",
   "pygments_lexer": "ipython3",
   "version": "3.10.9"
  }
 },
 "nbformat": 4,
 "nbformat_minor": 5
}
